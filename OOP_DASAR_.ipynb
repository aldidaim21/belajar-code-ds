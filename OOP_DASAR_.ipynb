{
  "nbformat": 4,
  "nbformat_minor": 0,
  "metadata": {
    "colab": {
      "provenance": [],
      "authorship_tag": "ABX9TyNgM9DYjdoHvOMkxDE/M47f",
      "include_colab_link": true
    },
    "kernelspec": {
      "name": "python3",
      "display_name": "Python 3"
    },
    "language_info": {
      "name": "python"
    }
  },
  "cells": [
    {
      "cell_type": "markdown",
      "metadata": {
        "id": "view-in-github",
        "colab_type": "text"
      },
      "source": [
        "<a href=\"https://colab.research.google.com/github/aldidaim21/belajar-code-ds/blob/master/OOP_DASAR_.ipynb\" target=\"_parent\"><img src=\"https://colab.research.google.com/assets/colab-badge.svg\" alt=\"Open In Colab\"/></a>"
      ]
    },
    {
      "cell_type": "markdown",
      "source": [
        "#**MEMBUAT CLASS**\n",
        "\n",
        "\n",
        "\n",
        "---\n",
        "\n",
        "class dideklrasikan diatas\n",
        "\n",
        "\n"
      ],
      "metadata": {
        "id": "hbV5a05NKKe9"
      }
    },
    {
      "cell_type": "code",
      "execution_count": 3,
      "metadata": {
        "colab": {
          "base_uri": "https://localhost:8080/"
        },
        "id": "n59LqetHJ_4F",
        "outputId": "b5f20640-f424-4b94-feff-7d5bcdf82858"
      },
      "outputs": [
        {
          "output_type": "stream",
          "name": "stdout",
          "text": [
            "{'nama': 'sniper', 'health': 100}\n"
          ]
        }
      ],
      "source": [
        "class hero:  #tamplate\n",
        "  pass\n",
        "\n",
        "hero1 = hero() #objek/instance\n",
        "\n",
        "\n",
        "hero1.nama = \"sniper\"\n",
        "hero1.health = 100\n",
        "\n",
        "\n",
        "\n",
        "print(hero1.__dict__)"
      ]
    },
    {
      "cell_type": "markdown",
      "source": [
        "#**Construktor init**\n",
        "---\n",
        "\n",
        "\n",
        "\n",
        "\n",
        "\n",
        "\n",
        "#**self**\n",
        "\n",
        "merupakan hero1 jadi self ii memperesentasikan objek dari sebuah objek di dalam sebuah class atau init"
      ],
      "metadata": {
        "id": "RPFTU9ZxLrto"
      }
    },
    {
      "cell_type": "code",
      "source": [
        "class asep:\n",
        "\n",
        "    def __init__(self,x):\n",
        "      print(\"halo\",x)\n",
        "\n",
        "hero1= asep(10)"
      ],
      "metadata": {
        "colab": {
          "base_uri": "https://localhost:8080/"
        },
        "id": "e2EjuxNuMBXJ",
        "outputId": "7cc57549-7bce-4602-96be-a8a7795cbea0"
      },
      "execution_count": 13,
      "outputs": [
        {
          "output_type": "stream",
          "name": "stdout",
          "text": [
            "halo 10\n"
          ]
        }
      ]
    },
    {
      "cell_type": "code",
      "source": [
        "class asep:\n",
        "\n",
        "    def __init__(self,inputname):\n",
        "     self.name = inputname\n",
        "\n",
        "hero1= asep(\"asep\")\n",
        "\n",
        "\n",
        "print(hero1.name)"
      ],
      "metadata": {
        "colab": {
          "base_uri": "https://localhost:8080/"
        },
        "id": "4DVIREqBNHoT",
        "outputId": "637915f6-1c58-4848-ca3d-88393b6d05da"
      },
      "execution_count": 14,
      "outputs": [
        {
          "output_type": "stream",
          "name": "stdout",
          "text": [
            "asep\n"
          ]
        }
      ]
    },
    {
      "cell_type": "markdown",
      "source": [
        "#**membuat penghitung objek**\n",
        "\n",
        "class dan intance\n",
        "\n"
      ],
      "metadata": {
        "id": "390mYtMzOBWk"
      }
    },
    {
      "cell_type": "code",
      "source": [
        "class asep:\n",
        "\n",
        "    #class variabel\n",
        "    jumlah = 0 \n",
        "    def __init__(self,inputname):\n",
        "     self.name = inputname\n",
        "     asep.jumlah += 1  #vale akan bertambah setiap objek dibuat\n",
        "     print(\"membuat hero dengan nama \" + inputname)\n",
        "\n",
        "hero1= asep(\"asep\")\n",
        "print(\"jumlah hero yang dibuat\", asep.jumlah)\n",
        "\n",
        "print(hero1.name)"
      ],
      "metadata": {
        "colab": {
          "base_uri": "https://localhost:8080/"
        },
        "id": "9H5u_FkzN_qi",
        "outputId": "54e12326-c567-4273-c251-3fd881d0b572"
      },
      "execution_count": 19,
      "outputs": [
        {
          "output_type": "stream",
          "name": "stdout",
          "text": [
            "membuat hero dengan nama asep\n",
            "jumlah hero yang dibuat 1\n",
            "asep\n"
          ]
        }
      ]
    }
  ]
}